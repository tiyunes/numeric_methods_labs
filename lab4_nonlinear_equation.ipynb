{
  "nbformat": 4,
  "nbformat_minor": 0,
  "metadata": {
    "colab": {
      "provenance": []
    },
    "kernelspec": {
      "name": "python3",
      "display_name": "Python 3"
    },
    "language_info": {
      "name": "python"
    }
  },
  "cells": [
    {
      "cell_type": "code",
      "execution_count": null,
      "metadata": {
        "id": "J6CXZeqgLXTO"
      },
      "outputs": [],
      "source": [
        "# вариант 28: cosh(1 + 1 / (1 + x)^2) - x + 6 = 0  (0, 10)\n",
        "# Тихомиров Юнес Б20-215\n",
        "import numpy as np\n",
        "import matplotlib.pyplot as plt"
      ]
    },
    {
      "cell_type": "code",
      "source": [
        "def func(x):\n",
        "  return np.cosh(1 + 1 / (1 + x)**2) - x + 6\n",
        "\n",
        "def derivative(x):\n",
        "  return np.sinh(1 + 1 / (1 + x)**2) * (- 2 / (1 + x)**(3)) - 1"
      ],
      "metadata": {
        "id": "JfMIhLVPs5fM"
      },
      "execution_count": null,
      "outputs": []
    },
    {
      "cell_type": "code",
      "source": [
        "x0 = 7.5592661718993\n",
        "epsList = [10**(-3), 10**(-6), 10**(-9)]\n",
        "a = 0\n",
        "b = 10"
      ],
      "metadata": {
        "id": "qYVDdNmysUl4"
      },
      "execution_count": null,
      "outputs": []
    },
    {
      "cell_type": "code",
      "source": [
        "def dichotomy(a, b, eps, func):\n",
        "  xList = []\n",
        "  countNumber = 0\n",
        "\n",
        "  if (abs(func(a)) < eps):\n",
        "    return a, countNumber, xList\n",
        "\n",
        "  elif (abs(func(b)) < eps):\n",
        "    return b, countNumber, xList\n",
        "\n",
        "  else:\n",
        "    while ((b - a) > eps):\n",
        "      xCurrent = (a + b) / 2\n",
        "      xList.append(xCurrent)\n",
        "      if (func(xCurrent) * func(b) <= 0):\n",
        "        a = xCurrent\n",
        "      else:\n",
        "        b = xCurrent\n",
        "      countNumber += 1\n",
        "    \n",
        "    return xCurrent, countNumber, xList "
      ],
      "metadata": {
        "id": "cju0mxSutXlf"
      },
      "execution_count": null,
      "outputs": []
    },
    {
      "cell_type": "code",
      "source": [
        "def newton(a, b, eps, func, derivative):\n",
        "  xList = []\n",
        "  countNumber = 0\n",
        "  # if (abs(func(a)) < eps):\n",
        "  #   return a, countNumber, xList\n",
        "  # if (abs(func(b)) < eps):\n",
        "  #   return b, countNumber, xList\n",
        "  \n",
        "  # xCurrent = (a + b) / 2\n",
        "  # xList.append(xCurrent)\n",
        "  # countNumber += 1\n",
        "  x0 = (a + b) / 2\n",
        "  xList.append(x0)\n",
        "  countNumber += 1\n",
        "\n",
        "# abs(func(xCurrent)) > eps\n",
        "  while (True):\n",
        "    xCurrent = x0 - (func(x0) / derivative(x0))\n",
        "    countNumber += 1\n",
        "    xList.append(xCurrent)\n",
        "    if ((abs(xCurrent - x0) <= eps) and (abs(func(xCurrent)) <= eps)):\n",
        "      break\n",
        "    x0 = xCurrent\n",
        "  \n",
        "  return xCurrent, countNumber, xList"
      ],
      "metadata": {
        "id": "fGRUsHPEvOS-"
      },
      "execution_count": null,
      "outputs": []
    },
    {
      "cell_type": "code",
      "source": [
        "def main():\n",
        "  print(\"True root value: \", x0)\n",
        "  print(\" \")\n",
        "  for i in range(3):\n",
        "    print(\"Numeric root value with eps = \", epsList[i], \" (dichotomy method): \", dichotomy(a, b, epsList[i], func)[0])\n",
        "    print(\"Numeric root value with eps = \", epsList[i], \" (Newton's method): \", newton(a, b, epsList[i], func, derivative)[0])\n",
        "    print(\" \")\n",
        "    print(\"Number of steps with eps = \", epsList[i], \" (dichotomy method): \", dichotomy(a, b, epsList[i], func)[1])\n",
        "    print(\"Number of steps with eps = \", epsList[i], \" (Newton's method): \", newton(a, b, epsList[i], func, derivative)[1])\n",
        "    print(\" \")\n",
        "    # print(\"Convergence speed with eps = \", epsList[i], \" (dichotomy method): \", convergenceRate(dichotomy(a, b, epsList[i], func)[2]))\n",
        "    # print(\"Convergence speed with eps = \", epsList[i], \" (Newton's method): \", convergenceRate(newton(a, b, epsList[i], func, derivative)[2]))\n",
        "    # print(\" \")\n",
        "  \n",
        "  countNumberDichotomy = []\n",
        "  countNumberNewton = []\n",
        "  epsRange = np.arange(10**(-9), 10**(-3), 10**(-7))\n",
        "  for k in range(epsRange.size):\n",
        "    countNumberDichotomy.append(dichotomy(a, b, epsRange[k], func)[1])\n",
        "    countNumberNewton.append(newton(a, b, epsRange[k], func, derivative)[1])\n",
        "  \n",
        "  fig, axs = plt.subplots(2, figsize = (17, 15))\n",
        "  axs[0].plot(epsRange, countNumberDichotomy, color='r', label='Iteration number (dichotomy method)')\n",
        "  axs[0].set_title(\"Iteration number (dichotomy method)\")\n",
        "  axs[1].plot(epsRange, countNumberNewton, color='b', label='Iteration number (Newtons method)')\n",
        "  axs[1].set_title(\"Iteration number (Newtons method)\")\n",
        "\n",
        "  for ax in axs:\n",
        "    ax.set_xlabel(\"eps\")\n",
        "    ax.set_ylabel(\"Iterations\")\n",
        "    ax.legend()\n",
        "    ax.grid(True)\n",
        "  plt.show()\n"
      ],
      "metadata": {
        "id": "7yYhaUlcwTQy"
      },
      "execution_count": null,
      "outputs": []
    },
    {
      "cell_type": "code",
      "source": [
        "main()"
      ],
      "metadata": {
        "colab": {
          "base_uri": "https://localhost:8080/",
          "height": 1000
        },
        "id": "AdhZUU1HxbMH",
        "outputId": "5668c14d-255d-4bf6-e2b1-92a509287502"
      },
      "execution_count": null,
      "outputs": [
        {
          "output_type": "stream",
          "name": "stdout",
          "text": [
            "True root value:  7.5592661718993\n",
            " \n",
            "Numeric root value with eps =  0.001  (dichotomy method):  7.5592041015625\n",
            "Numeric root value with eps =  0.001  (Newton's method):  7.5592661718993055\n",
            " \n",
            "Number of steps with eps =  0.001  (dichotomy method):  14\n",
            "Number of steps with eps =  0.001  (Newton's method):  4\n",
            " \n",
            "Numeric root value with eps =  1e-06  (dichotomy method):  7.559266686439514\n",
            "Numeric root value with eps =  1e-06  (Newton's method):  7.5592661718993055\n",
            " \n",
            "Number of steps with eps =  1e-06  (dichotomy method):  24\n",
            "Number of steps with eps =  1e-06  (Newton's method):  4\n",
            " \n",
            "Numeric root value with eps =  1e-09  (dichotomy method):  7.559266172465868\n",
            "Numeric root value with eps =  1e-09  (Newton's method):  7.5592661718993055\n",
            " \n",
            "Number of steps with eps =  1e-09  (dichotomy method):  34\n",
            "Number of steps with eps =  1e-09  (Newton's method):  5\n",
            " \n"
          ]
        },
        {
          "output_type": "display_data",
          "data": {
            "text/plain": [
              "<Figure size 1224x1080 with 2 Axes>"
            ],
            "image/png": "[encoded data removed]"
          },
          "metadata": {
            "needs_background": "light"
          }
        }
      ]
    },
    {
      "cell_type": "code",
      "source": [
        "def convergenceRate(xList): \n",
        "  rates = []\n",
        "  if len(xList) > 3:\n",
        "    for k in range(3, len(xList)):\n",
        "      rates.append(np.log((xList[k] - xList[k - 1]) / (xList[k - 1] - xList[k - 2])) / np.log((xList[k - 1] - xList[k - 2]) / (xList[k - 2] - xList[k - 3])))\n",
        "  else:\n",
        "    return None\n",
        "  return rates[-1]"
      ],
      "metadata": {
        "id": "WkeDPJVUdAQW"
      },
      "execution_count": null,
      "outputs": []
    }
  ]
}